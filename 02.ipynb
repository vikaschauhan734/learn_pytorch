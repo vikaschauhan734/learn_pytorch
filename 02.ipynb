{
  "cells": [
    {
      "cell_type": "markdown",
      "id": "d3104121",
      "metadata": {
        "id": "d3104121"
      },
      "source": [
        "# Custom dataset - 2 classes (daisy and Dandilion)\n",
        "\n",
        "This architecture is a simple feedforward neural network designed for image classification tasks with two classes. The model takes RGB images of size 256x256 and outputs probability scores for each class using the softmax function."
      ]
    },
    {
      "cell_type": "code",
      "source": [
        "from google.colab import drive\n",
        "drive.mount('/content/drive')"
      ],
      "metadata": {
        "colab": {
          "base_uri": "https://localhost:8080/"
        },
        "id": "lEk7NMXNeSYi",
        "outputId": "01097f67-9de9-454a-d764-d29651b7bebb"
      },
      "id": "lEk7NMXNeSYi",
      "execution_count": 1,
      "outputs": [
        {
          "output_type": "stream",
          "name": "stdout",
          "text": [
            "Mounted at /content/drive\n"
          ]
        }
      ]
    },
    {
      "cell_type": "code",
      "execution_count": 2,
      "id": "f7d8f774-50ee-48b6-b301-c407a1ed6386",
      "metadata": {
        "id": "f7d8f774-50ee-48b6-b301-c407a1ed6386"
      },
      "outputs": [],
      "source": [
        "#!pip install scikit-learn\n",
        "#!pip install numpy\n",
        "#!pip install matplotlib"
      ]
    },
    {
      "cell_type": "code",
      "execution_count": 3,
      "id": "a9d43cae",
      "metadata": {
        "colab": {
          "base_uri": "https://localhost:8080/"
        },
        "id": "a9d43cae",
        "outputId": "972b6476-8cde-4837-8458-8dd110002f26"
      },
      "outputs": [
        {
          "output_type": "execute_result",
          "data": {
            "text/plain": [
              "<torch._C.Generator at 0x7eb27ab61650>"
            ]
          },
          "metadata": {},
          "execution_count": 3
        }
      ],
      "source": [
        "import torch\n",
        "import torch.nn as nn\n",
        "import torch.optim as optim\n",
        "import torchvision.transforms as transforms\n",
        "from torch.utils.data import DataLoader, Dataset\n",
        "from torchvision.datasets import ImageFolder\n",
        "from sklearn.metrics import accuracy_score, precision_score, recall_score, f1_score\n",
        "import matplotlib.pyplot as plt\n",
        "\n",
        "# Set random seed for reproducibility\n",
        "torch.manual_seed(10)\n"
      ]
    },
    {
      "cell_type": "code",
      "execution_count": 4,
      "id": "044c70f0",
      "metadata": {
        "id": "044c70f0"
      },
      "outputs": [],
      "source": [
        "# Define the neural network architecture\n",
        "class SimpleNN(nn.Module):\n",
        "    def __init__(self):\n",
        "        super(SimpleNN, self).__init__()\n",
        "        self.fc1 = nn.Linear(3 * 256 * 256, 128)  # Assuming input images are RGB and 256x256\n",
        "        self.relu = nn.ReLU()\n",
        "        self.fc2 = nn.Linear(128, 2)  # Output layer with 2 classes\n",
        "        self.softmax = nn.Softmax(dim=1)\n",
        "\n",
        "    def forward(self, x):\n",
        "        x = x.view(-1, 3 * 256 * 256)  # Flatten the input images (reshapes the input tensor to have a size of (batch_size, 3 * 256 * 256)\n",
        "        x = self.relu(self.fc1(x))\n",
        "        x = self.softmax(self.fc2(x))\n",
        "        return x\n"
      ]
    },
    {
      "cell_type": "code",
      "execution_count": 5,
      "id": "17f222f9",
      "metadata": {
        "id": "17f222f9"
      },
      "outputs": [],
      "source": [
        "# Set up data transformations\n",
        "transform = transforms.Compose([\n",
        "    transforms.Resize((256, 256)),\n",
        "    transforms.ToTensor(),\n",
        "    transforms.Normalize((0.5, 0.5, 0.5), (0.5, 0.5, 0.5))\n",
        "])"
      ]
    },
    {
      "cell_type": "code",
      "execution_count": 6,
      "id": "2cf1826f",
      "metadata": {
        "id": "2cf1826f"
      },
      "outputs": [],
      "source": [
        "# Define custom dataset class\n",
        "class CustomDataset(Dataset):\n",
        "    def __init__(self, root, transform=None):\n",
        "        self.dataset = ImageFolder(root, transform=transform)  #This ensures that every image in the dataset is resized, converted to a tensor, and normalized before being used in the training or testing process.\n",
        "\n",
        "    def __len__(self):\n",
        "        return len(self.dataset)\n",
        "\n",
        "    def __getitem__(self, idx):\n",
        "        return self.dataset[idx]\n"
      ]
    },
    {
      "cell_type": "code",
      "execution_count": 7,
      "id": "31724608",
      "metadata": {
        "id": "31724608"
      },
      "outputs": [],
      "source": [
        "# Define data loaders\n",
        "train_dataset = CustomDataset(root='/content/drive/MyDrive/Flowers_Classification_dataset/train', transform=transform)\n",
        "test_dataset = CustomDataset(root='/content/drive/MyDrive/Flowers_Classification_dataset/val', transform=transform)\n",
        "\n",
        "train_loader = DataLoader(dataset=train_dataset, batch_size=64, shuffle=True)\n",
        "test_loader = DataLoader(dataset=test_dataset, batch_size=64, shuffle=False)"
      ]
    },
    {
      "cell_type": "code",
      "execution_count": 8,
      "id": "88a52778",
      "metadata": {
        "id": "88a52778"
      },
      "outputs": [],
      "source": [
        "# Instantiate the model, loss function, and optimizer\n",
        "model = SimpleNN()\n",
        "criterion = nn.CrossEntropyLoss()\n",
        "optimizer = optim.Adam(model.parameters(), lr=0.0001)\n"
      ]
    },
    {
      "cell_type": "code",
      "execution_count": 9,
      "id": "247e9d0c",
      "metadata": {
        "colab": {
          "base_uri": "https://localhost:8080/",
          "height": 1000
        },
        "id": "247e9d0c",
        "outputId": "9d91e30c-a199-4bc1-f8d6-c44c93a67640"
      },
      "outputs": [
        {
          "output_type": "stream",
          "name": "stdout",
          "text": [
            "Epoch [1/50], Training Loss: 0.7252, Validation Loss: 0.7276\n",
            "Epoch [2/50], Training Loss: 0.7039, Validation Loss: 0.7497\n",
            "Epoch [3/50], Training Loss: 0.7034, Validation Loss: 0.7384\n",
            "Epoch [4/50], Training Loss: 0.6814, Validation Loss: 0.7193\n",
            "Epoch [5/50], Training Loss: 0.6587, Validation Loss: 0.7201\n",
            "Epoch [6/50], Training Loss: 0.6447, Validation Loss: 0.6980\n",
            "Epoch [7/50], Training Loss: 0.6383, Validation Loss: 0.7301\n",
            "Epoch [8/50], Training Loss: 0.6220, Validation Loss: 0.6785\n",
            "Epoch [9/50], Training Loss: 0.6186, Validation Loss: 0.7047\n",
            "Epoch [10/50], Training Loss: 0.6043, Validation Loss: 0.6738\n",
            "Epoch [11/50], Training Loss: 0.5876, Validation Loss: 0.6862\n",
            "Epoch [12/50], Training Loss: 0.5791, Validation Loss: 0.6981\n",
            "Epoch [13/50], Training Loss: 0.5696, Validation Loss: 0.6628\n",
            "Epoch [14/50], Training Loss: 0.5541, Validation Loss: 0.6710\n",
            "Epoch [15/50], Training Loss: 0.5550, Validation Loss: 0.6640\n",
            "Epoch [16/50], Training Loss: 0.5342, Validation Loss: 0.6762\n",
            "Epoch [17/50], Training Loss: 0.5402, Validation Loss: 0.6597\n",
            "Epoch [18/50], Training Loss: 0.5271, Validation Loss: 0.6695\n",
            "Epoch [19/50], Training Loss: 0.5189, Validation Loss: 0.6637\n",
            "Epoch [20/50], Training Loss: 0.4997, Validation Loss: 0.6480\n",
            "Epoch [21/50], Training Loss: 0.4932, Validation Loss: 0.6643\n",
            "Epoch [22/50], Training Loss: 0.4870, Validation Loss: 0.6409\n",
            "Epoch [23/50], Training Loss: 0.4793, Validation Loss: 0.6432\n",
            "Epoch [24/50], Training Loss: 0.4562, Validation Loss: 0.6439\n",
            "Epoch [25/50], Training Loss: 0.4578, Validation Loss: 0.6376\n",
            "Epoch [26/50], Training Loss: 0.4468, Validation Loss: 0.6347\n",
            "Epoch [27/50], Training Loss: 0.4454, Validation Loss: 0.6363\n",
            "Epoch [28/50], Training Loss: 0.4387, Validation Loss: 0.6415\n",
            "Epoch [29/50], Training Loss: 0.4229, Validation Loss: 0.6365\n",
            "Epoch [30/50], Training Loss: 0.4198, Validation Loss: 0.6343\n",
            "Epoch [31/50], Training Loss: 0.4199, Validation Loss: 0.6086\n",
            "Epoch [32/50], Training Loss: 0.4147, Validation Loss: 0.6443\n",
            "Epoch [33/50], Training Loss: 0.4096, Validation Loss: 0.6392\n",
            "Epoch [34/50], Training Loss: 0.4190, Validation Loss: 0.6148\n",
            "Epoch [35/50], Training Loss: 0.4012, Validation Loss: 0.6146\n",
            "Epoch [36/50], Training Loss: 0.3963, Validation Loss: 0.6337\n",
            "Epoch [37/50], Training Loss: 0.3959, Validation Loss: 0.6219\n",
            "Epoch [38/50], Training Loss: 0.3863, Validation Loss: 0.6029\n",
            "Epoch [39/50], Training Loss: 0.3916, Validation Loss: 0.6127\n",
            "Epoch [40/50], Training Loss: 0.3893, Validation Loss: 0.6139\n",
            "Epoch [41/50], Training Loss: 0.3992, Validation Loss: 0.6416\n",
            "Epoch [42/50], Training Loss: 0.3949, Validation Loss: 0.6341\n",
            "Epoch [43/50], Training Loss: 0.3799, Validation Loss: 0.6455\n",
            "Epoch [44/50], Training Loss: 0.3963, Validation Loss: 0.6236\n",
            "Epoch [45/50], Training Loss: 0.3853, Validation Loss: 0.6485\n",
            "Epoch [46/50], Training Loss: 0.3833, Validation Loss: 0.6177\n",
            "Epoch [47/50], Training Loss: 0.3793, Validation Loss: 0.6384\n",
            "Epoch [48/50], Training Loss: 0.3783, Validation Loss: 0.6204\n",
            "Epoch [49/50], Training Loss: 0.3775, Validation Loss: 0.6232\n",
            "Epoch [50/50], Training Loss: 0.3705, Validation Loss: 0.6491\n",
            "Accuracy: 0.6511, Precision: 0.6505, Recall: 0.6511, F1 Score: 0.6421\n"
          ]
        },
        {
          "output_type": "display_data",
          "data": {
            "text/plain": [
              "<Figure size 640x480 with 1 Axes>"
            ],
            "image/png": "[encoded data removed]"
          },
          "metadata": {}
        }
      ],
      "source": [
        "# Training the model\n",
        "num_epochs = 50\n",
        "train_losses = []\n",
        "valid_losses = []\n",
        "\n",
        "for epoch in range(num_epochs):\n",
        "    model.train()\n",
        "    running_loss = 0.0\n",
        "    for inputs, labels in train_loader:\n",
        "        optimizer.zero_grad()\n",
        "        outputs = model(inputs)\n",
        "        loss = criterion(outputs, labels)\n",
        "        loss.backward()\n",
        "        optimizer.step()\n",
        "        running_loss += loss.item()\n",
        "\n",
        "    average_train_loss = running_loss / len(train_loader)\n",
        "    train_losses.append(average_train_loss)\n",
        "\n",
        "    # Validation\n",
        "    model.eval()\n",
        "    valid_loss = 0.0\n",
        "    with torch.no_grad():\n",
        "        for inputs, labels in test_loader:\n",
        "            outputs = model(inputs)\n",
        "            loss = criterion(outputs, labels)\n",
        "            valid_loss += loss.item()\n",
        "\n",
        "    average_valid_loss = valid_loss / len(test_loader)\n",
        "    valid_losses.append(average_valid_loss)\n",
        "\n",
        "    print(f'Epoch [{epoch + 1}/{num_epochs}], '\n",
        "          f'Training Loss: {average_train_loss:.4f}, '\n",
        "          f'Validation Loss: {average_valid_loss:.4f}')\n",
        "\n",
        "# Evaluate the model\n",
        "def evaluate_model(model, data_loader):\n",
        "    model.eval()\n",
        "    all_preds = []\n",
        "    all_labels = []\n",
        "\n",
        "    with torch.no_grad():\n",
        "        for inputs, labels in data_loader:\n",
        "            outputs = model(inputs)\n",
        "            _, preds = torch.max(outputs, 1)\n",
        "            all_preds.extend(preds.cpu().numpy())\n",
        "            all_labels.extend(labels.cpu().numpy())\n",
        "\n",
        "    accuracy = accuracy_score(all_labels, all_preds)\n",
        "    precision = precision_score(all_labels, all_preds, average='weighted')\n",
        "    recall = recall_score(all_labels, all_preds, average='weighted')\n",
        "    f1 = f1_score(all_labels, all_preds, average='weighted')\n",
        "\n",
        "    print(f'Accuracy: {accuracy:.4f}, Precision: {precision:.4f}, Recall: {recall:.4f}, F1 Score: {f1:.4f}')\n",
        "\n",
        "evaluate_model(model, test_loader)\n",
        "\n",
        "# Visualize training and validation curves\n",
        "plt.plot(train_losses, label='Training Loss')\n",
        "plt.plot(valid_losses, label='Validation Loss')\n",
        "plt.xlabel('Epoch')\n",
        "plt.ylabel('Loss')\n",
        "plt.legend()\n",
        "plt.show()\n",
        "\n",
        "# Save the trained model\n",
        "torch.save(model.state_dict(), 'binary_classification_model.pth')\n"
      ]
    }
  ],
  "metadata": {
    "kernelspec": {
      "display_name": "Python 3",
      "name": "python3"
    },
    "language_info": {
      "codemirror_mode": {
        "name": "ipython",
        "version": 3
      },
      "file_extension": ".py",
      "mimetype": "text/x-python",
      "name": "python",
      "nbconvert_exporter": "python",
      "pygments_lexer": "ipython3",
      "version": "3.11.6"
    },
    "colab": {
      "provenance": [],
      "gpuType": "T4"
    },
    "accelerator": "GPU"
  },
  "nbformat": 4,
  "nbformat_minor": 5
}